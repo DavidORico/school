{
 "cells": [
  {
   "cell_type": "markdown",
   "metadata": {},
   "source": [
    "# The Catering Problem\n",
    "\n",
    "## Motivation\n",
    "\n",
    "A catering company to cook $n$ dishes, but has only one available oven.\n",
    "    At most a single dish can be inside the oven at one time.    \n",
    "    Each dish $i$ has its earliest time when it can be put into the oven $r_i$ (since it needs to be prepared before it is put into the oven), the latest time it should be taken from the oven $d_i$ (since the customers do not want to wait too long), and the time it needs to stay in the oven $p_i$.\n",
    "    The goal is to find the vector of times $\\mathbf{s} = (s_0, \\dots, s_{n-1})$ (denoting the times when each dish is put into the oven) such that the finish time of the last dish is minimal.\n",
    "    \n",
    "## Input\n",
    "\n",
    "You are given the following:\n",
    "* number of dished $n$\n",
    "* parameters $r_i$, $d_i$ and $p_i$ for each dish $i$\n",
    "\n",
    "For the testing purposes, you can experiment with the following instance:"
   ]
  },
  {
   "cell_type": "code",
   "execution_count": 3,
   "metadata": {},
   "outputs": [],
   "source": [
    "n = 5\n",
    "params = {\n",
    "    0: {'r': 20, 'd': 45, 'p': 15},\n",
    "    1: {'r':  4, 'd': 30, 'p': 19},\n",
    "    2: {'r':  5, 'd': 80, 'p': 20},\n",
    "    3: {'r': 17, 'd': 70, 'p':  8},\n",
    "    4: {'r': 27, 'd': 66, 'p':  7}\n",
    "}\n",
    "\n",
    "# Note: parameter d_1 can be obtained by params[1][\"d\"]"
   ]
  },
  {
   "cell_type": "markdown",
   "metadata": {},
   "source": [
    "## Output\n",
    "\n",
    "You are expected to find the vector $\\mathbf{s} = (s_0, \\dots, s_{n-1})$ denoting the times when each dish should be put into the oven.\n",
    "\n",
    "The optimal solution vector for the given instance is $\\mathbf{s} = (23, 4, 53, 38, 46)$.\n",
    "\n",
    "## Exercise\n",
    "\n",
    "Your task is to formulate the ILP model of the catering problem, solve it, and extract the vector $\\mathbf{s}$. The example solution follows:"
   ]
  },
  {
   "cell_type": "markdown",
   "metadata": {},
   "source": [
    "Hint: to ensure that any two dishes $i$ and $j$ are not overlapping in the oven, you need to ensure that one of the following constraints holds: $s_i + p_i \\leq s_j$ or $s_j + p_j \\leq s_i$. This might be perhaps done using big-M... "
   ]
  },
  {
   "cell_type": "code",
   "execution_count": 4,
   "metadata": {},
   "outputs": [
    {
     "ename": "ModuleNotFoundError",
     "evalue": "No module named 'gurobipy'",
     "output_type": "error",
     "traceback": [
      "\u001B[0;31m---------------------------------------------------------------------------\u001B[0m",
      "\u001B[0;31mModuleNotFoundError\u001B[0m                       Traceback (most recent call last)",
      "\u001B[0;32m/tmp/ipykernel_51669/2777351490.py\u001B[0m in \u001B[0;36m<module>\u001B[0;34m\u001B[0m\n\u001B[0;32m----> 1\u001B[0;31m \u001B[0;32mimport\u001B[0m \u001B[0mgurobipy\u001B[0m \u001B[0;32mas\u001B[0m \u001B[0mgrb\u001B[0m  \u001B[0;31m# import Gurobi module\u001B[0m\u001B[0;34m\u001B[0m\u001B[0;34m\u001B[0m\u001B[0m\n\u001B[0m\u001B[1;32m      2\u001B[0m \u001B[0;34m\u001B[0m\u001B[0m\n\u001B[1;32m      3\u001B[0m \u001B[0;31m# model -----------------------------------------------------\u001B[0m\u001B[0;34m\u001B[0m\u001B[0;34m\u001B[0m\u001B[0;34m\u001B[0m\u001B[0m\n\u001B[1;32m      4\u001B[0m \u001B[0mmodel\u001B[0m \u001B[0;34m=\u001B[0m \u001B[0mgrb\u001B[0m\u001B[0;34m.\u001B[0m\u001B[0mModel\u001B[0m\u001B[0;34m(\u001B[0m\u001B[0;34m)\u001B[0m\u001B[0;34m\u001B[0m\u001B[0;34m\u001B[0m\u001B[0m\n\u001B[1;32m      5\u001B[0m \u001B[0;34m\u001B[0m\u001B[0m\n",
      "\u001B[0;31mModuleNotFoundError\u001B[0m: No module named 'gurobipy'"
     ]
    }
   ],
   "source": [
    "import gurobipy as grb  # import Gurobi module\n",
    "\n",
    "# model -----------------------------------------------------\n",
    "model = grb.Model()\n",
    "\n",
    "# - ADD VARIABLES\n",
    "x = model.addVars(n, vtype=grb.GRB.INTEGER, name=\"x\")\n",
    "a = model.addVars(n, n, vtype=grb.GRB.BINARY, name=\"a\")\n",
    "theta = model.addVars(vtype=grb.GRB.INTEGER, obj=1, name=\"theta\")\n",
    "M = max(params[i][\"d\"] for i in range(n))\n",
    "# - ADD CONSTRAINTS\n",
    "for i in range(n):\n",
    "    model.addConstr(x[i] >= params[i][\"r\"])\n",
    "    model.addConstr(x[i] + params[i][\"p\"] <= params[i][\"d\"])\n",
    "    model.addConstr(theta >= x[i] + params[i][\"p\"])\n",
    "    for j in range(n):\n",
    "        if i != j:\n",
    "            model.addConstr(x[j] >= x[i] + params[i][\"p\"] - M * (1-a[i,j]))\n",
    "            model.addConstr(x[i] >= x[j] + params[j][\"p\"] - M * a[i,j])\n",
    "\n",
    "# - SET OBJECTIVE\n",
    "# TODO\n",
    "\n",
    "# call the solver -------------------------------------------\n",
    "model.optimize()\n",
    "\n",
    "#model.computeIIS()\n",
    "#model.write(\"iis.ilp\")\n",
    "# print the solution ----------------------------------------\n",
    "print('\\nSOLUTION:')\n",
    "print([x[i].X for i in range(n)])"
   ]
  },
  {
   "cell_type": "markdown",
   "metadata": {},
   "source": [
    "## Solution visualization"
   ]
  },
  {
   "cell_type": "code",
   "execution_count": null,
   "metadata": {},
   "outputs": [],
   "source": [
    "import matplotlib.pyplot as plt \n",
    "\n",
    "def plot_solution(s, p):\n",
    "    \"\"\"\n",
    "    s: solution vector\n",
    "    p: processing times\n",
    "    \"\"\"\n",
    "    fig = plt.figure(figsize=(10,2))\n",
    "    ax = plt.gca()\n",
    "    ax.set_xlabel('time')     \n",
    "    ax.grid(True) \n",
    "    ax.set_yticks([2.5])\n",
    "    ax.set_yticklabels([\"oven\"]) \n",
    "    eps = 0.25  # just to show spaces between the dishes\n",
    "    ax.broken_barh([(s[i], p[i]-eps) for i in range(len(s))], (0, 5), \n",
    "                   facecolors=('tab:orange', 'tab:green', 'tab:red', 'tab:blue', 'tab:gray'))\n",
    "\n",
    "# TODO: plot your solution\n",
    "plot_solution([23.0, 4.0, 53.0, 38.0, 46.0], [params[i][\"p\"] for i in range(n)])"
   ]
  },
  {
   "cell_type": "code",
   "execution_count": null,
   "metadata": {},
   "outputs": [],
   "source": []
  }
 ],
 "metadata": {
  "kernelspec": {
   "display_name": "Python 3",
   "language": "python",
   "name": "python3"
  },
  "language_info": {
   "codemirror_mode": {
    "name": "ipython",
    "version": 3
   },
   "file_extension": ".py",
   "mimetype": "text/x-python",
   "name": "python",
   "nbconvert_exporter": "python",
   "pygments_lexer": "ipython3",
   "version": "3.8.10"
  }
 },
 "nbformat": 4,
 "nbformat_minor": 4
}
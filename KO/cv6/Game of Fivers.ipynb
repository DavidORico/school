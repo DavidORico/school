{
 "cells": [
  {
   "cell_type": "markdown",
   "metadata": {},
   "source": [
    "# Game of Fivers\n",
    "\n",
    "_Combinatorial Optimization course, FEE CTU in Prague. Created by [Industrial Informatics Department](http://industrialinformatics.fel.cvut.cz)._\n",
    "\n",
    "## Motivation\n",
    "\n",
    "Riddle: On a square board of size $(n \\times n)$ there lie $n^2$ stones. Every stone has two sides - white and black. In the beginning, all stones have the white side facing upwards.\n",
    "\n",
    "You may turn the stone (white to black or black to white), but if you do that, all the stones in its 4-neighborhood will be turned as well. You want to reach the state in which all the stones have their black sides facing upwards. \n",
    "\n",
    "What is the minimal number of moves you need to do? \n",
    "\n",
    "## Input\n",
    "\n",
    "You are given a positive integer $n \\geq 3$, representing the size of the board.\n"
   ]
  },
  {
   "cell_type": "code",
   "execution_count": 22,
   "metadata": {},
   "outputs": [],
   "source": [
    "n = 20"
   ]
  },
  {
   "cell_type": "markdown",
   "metadata": {},
   "source": [
    "## Output\n",
    "\n",
    "You should find a minimal number of moves that need to be done to reach the final states (all stones black). Also, you should provide the moves (e.g., a list of positions of the stones to be turned over).\n",
    "\n",
    "## Model"
   ]
  },
  {
   "cell_type": "code",
   "execution_count": 23,
   "metadata": {},
   "outputs": [
    {
     "name": "stdout",
     "output_type": "stream",
     "text": [
      "Gurobi Optimizer version 9.5.1 build v9.5.1rc2 (linux64)\n",
      "Thread count: 4 physical cores, 8 logical processors, using up to 8 threads\n",
      "Optimize a model with 400 rows, 800 columns and 2320 nonzeros\n",
      "Model fingerprint: 0xe3ef2a4b\n",
      "Variable types: 0 continuous, 800 integer (400 binary)\n",
      "Coefficient statistics:\n",
      "  Matrix range     [1e+00, 2e+00]\n",
      "  Objective range  [1e+00, 1e+00]\n",
      "  Bounds range     [1e+00, 1e+00]\n",
      "  RHS range        [1e+00, 1e+00]\n",
      "Presolve removed 1 rows and 21 columns\n",
      "Presolve time: 0.01s\n",
      "Presolved: 399 rows, 779 columns, 2249 nonzeros\n",
      "Variable types: 0 continuous, 779 integer (474 binary)\n",
      "\n",
      "Root relaxation: objective 9.138907e+01, 999 iterations, 0.05 seconds (0.03 work units)\n",
      "\n",
      "    Nodes    |    Current Node    |     Objective Bounds      |     Work\n",
      " Expl Unexpl |  Obj  Depth IntInf | Incumbent    BestBd   Gap | It/Node Time\n",
      "\n",
      "     0     0   91.38907    0  397          -   91.38907      -     -    0s\n",
      "     0     0   93.68843    0  428          -   93.68843      -     -    0s\n",
      "     0     0   93.70421    0  428          -   93.70421      -     -    0s\n",
      "     0     0   93.72614    0  429          -   93.72614      -     -    0s\n",
      "     0     0   93.72646    0  429          -   93.72646      -     -    0s\n",
      "     0     0   95.54640    0  442          -   95.54640      -     -    0s\n",
      "     0     0   95.80458    0  447          -   95.80458      -     -    0s\n",
      "     0     0   95.84623    0  449          -   95.84623      -     -    0s\n",
      "     0     0   95.85536    0  450          -   95.85536      -     -    0s\n",
      "     0     0   95.85574    0  449          -   95.85574      -     -    0s\n",
      "     0     0   97.28862    0  457          -   97.28862      -     -    0s\n",
      "     0     0   97.58821    0  465          -   97.58821      -     -    0s\n",
      "     0     0   97.61415    0  471          -   97.61415      -     -    0s\n",
      "     0     0   97.61624    0  473          -   97.61624      -     -    0s\n",
      "     0     0   98.67483    0  475          -   98.67483      -     -    0s\n",
      "     0     0   98.72276    0  476          -   98.72276      -     -    0s\n",
      "     0     0   98.74103    0  477          -   98.74103      -     -    0s\n",
      "     0     0   98.74152    0  478          -   98.74152      -     -    0s\n",
      "     0     0   99.60707    0  494          -   99.60707      -     -    0s\n",
      "     0     0   99.61469    0  492          -   99.61469      -     -    0s\n",
      "     0     0  100.62225    0  489          -  100.62225      -     -    0s\n",
      "     0     0  101.80643    0  493          -  101.80643      -     -    0s\n",
      "     0     0  103.15199    0  498          -  103.15199      -     -    1s\n",
      "     0     0  104.42431    0  514          -  104.42431      -     -    1s\n",
      "     0     0  106.17045    0  508          -  106.17045      -     -    1s\n",
      "     0     0  108.17405    0  518          -  108.17405      -     -    1s\n",
      "     0     0  109.46053    0  530          -  109.46053      -     -    1s\n",
      "     0     0  110.21362    0  533          -  110.21362      -     -    1s\n",
      "     0     0  110.92894    0  543          -  110.92894      -     -    1s\n",
      "     0     0  111.34124    0  539          -  111.34124      -     -    1s\n",
      "     0     0  111.83456    0  539          -  111.83456      -     -    1s\n",
      "     0     0  112.37322    0  548          -  112.37322      -     -    2s\n",
      "     0     0  113.32694    0  551          -  113.32694      -     -    2s\n",
      "     0     0  113.92448    0  556          -  113.92448      -     -    2s\n",
      "     0     0  114.41249    0  559          -  114.41249      -     -    2s\n",
      "H    0     0                     224.0000000  114.41249  48.9%     -    2s\n",
      "     0     0  114.41249    0  559  224.00000  114.41249  48.9%     -    2s\n",
      "     0     2  114.41249    0  559  224.00000  114.41249  48.9%     -    2s\n",
      "   494   193  123.93872   11  447  224.00000  116.64859  47.9%   123    5s\n",
      "  1749   465 infeasible   11       224.00000  118.12324  47.3%   122   10s\n",
      "  2878   618 infeasible   19       224.00000  118.89726  46.9%   126   15s\n",
      "  4070   751 infeasible   15       224.00000  119.55183  46.6%   128   20s\n",
      "\n",
      "Cutting planes:\n",
      "  Cover: 255\n",
      "  Implied bound: 146\n",
      "  Clique: 1\n",
      "  MIR: 111\n",
      "  Inf proof: 23\n",
      "  Zero half: 168\n",
      "\n",
      "Explored 4587 nodes (596214 simplex iterations) in 22.04 seconds (34.97 work units)\n",
      "Thread count was 8 (of 8 available processors)\n",
      "\n",
      "Solution count 1: 224 \n",
      "\n",
      "Optimal solution found (tolerance 1.00e-04)\n",
      "Best objective 2.240000000000e+02, best bound 2.240000000000e+02, gap 0.0000%\n",
      "x-x--xxxxxxxxxx--x-x\n",
      "-x---x--------x---x-\n",
      "x-xx-xx------xx-xx-x\n",
      "--xxx-x-xxxx-x-xxx--\n",
      "---xx-xxx--xxx-xx---\n",
      "xxx--x---xx---x--xxx\n",
      "x-xxx-x-xxxx-x-xxx-x\n",
      "x---x--xxxxxx--x---x\n",
      "x--xx-xxxxxxxx-xx--x\n",
      "x--x-xxxxxxxxxx-x--x\n",
      "x--x-xxxxxxxxxx-x--x\n",
      "x--xx-xxxxxxxx-xx--x\n",
      "x---x--xxxxxx--x---x\n",
      "x-xxx-x-xxxx-x-xxx-x\n",
      "xxx--x---xx---x--xxx\n",
      "---xx-xxx--xxx-xx---\n",
      "--xxx-x-xxxx-x-xxx--\n",
      "x-xx-xx------xx-xx-x\n",
      "-x---x--------x---x-\n",
      "x-x--xxxxxxxxxx--x-x\n"
     ]
    }
   ],
   "source": [
    "import gurobipy as g\n",
    "\n",
    "m = g.Model()\n",
    "\n",
    "X = m.addVars(n, n, vtype=g.GRB.BINARY, name=\"x\")\n",
    "K = m.addVars(n, n, vtype=g.GRB.INTEGER, name=\"k\")\n",
    "\n",
    "for i in range(n):\n",
    "    for j in range(n):\n",
    "        #corners\n",
    "        if i == 0 and j == 0:\n",
    "            m.addConstr(X[i,j] + X[i+1,j] + X[i,j+1] == 2*K[i,j] + 1)\n",
    "        elif i == n-1 and j == 0:\n",
    "            m.addConstr(X[i,j] + X[i-1,j] + X[i,j+1] == 2*K[i,j] + 1)\n",
    "        elif i == 0 and j == n-1:\n",
    "            m.addConstr(X[i,j] + X[i+1,j] + X[i,j-1] == 2*K[i,j] + 1)\n",
    "        elif i == n-1 and j == n-1:\n",
    "            m.addConstr(X[i,j] + X[i-1,j] + X[i,j-1] == 2*K[i,j] + 1)\n",
    "        #edges\n",
    "        elif i == 0:\n",
    "            m.addConstr(X[i,j] + X[i+1,j] + X[i,j+1] + X[i, j-1] == 2*K[i,j] + 1)\n",
    "        elif i == n-1:\n",
    "            m.addConstr(X[i,j] + X[i-1,j] + X[i,j+1] + X[i,j-1] == 2*K[i,j] + 1)\n",
    "        elif j == 0:\n",
    "            m.addConstr(X[i,j] + X[i+1,j] + X[i,j+1] + X[i-1,j] ==    2*K[i,j] + 1)\n",
    "        elif j == n-1:\n",
    "            m.addConstr(X[i,j] + X[i+1,j] + X[i,j-1] + X[i-1,j] == 2*K[i,j] + 1)\n",
    "        #middle\n",
    "        else:\n",
    "            m.addConstr(X[i,j] + X[i+1,j] + X[i,j-1] + X[i-1,j] + X[i,j+1] == 2*K[i,j] + 1)\n",
    "\n",
    "m.setObjective(X.sum(\"*\", \"*\"))\n",
    "m.optimize()\n",
    "\n",
    "for i in range(n):\n",
    "    for j in range(n):\n",
    "        print(\"x\" if X[i,j].X > 0.5 else \"-\", end=\"\")\n",
    "    print()"
   ]
  },
  {
   "cell_type": "markdown",
   "metadata": {},
   "source": [
    " ##  Visualization"
   ]
  },
  {
   "cell_type": "code",
   "execution_count": 24,
   "metadata": {},
   "outputs": [
    {
     "ename": "AttributeError",
     "evalue": "'tupledict' object has no attribute 'X'",
     "output_type": "error",
     "traceback": [
      "\u001B[0;31m---------------------------------------------------------------------------\u001B[0m",
      "\u001B[0;31mAttributeError\u001B[0m                            Traceback (most recent call last)",
      "\u001B[0;32m/tmp/ipykernel_4896/376851219.py\u001B[0m in \u001B[0;36m<module>\u001B[0;34m\u001B[0m\n\u001B[1;32m     14\u001B[0m     \u001B[0mplt\u001B[0m\u001B[0;34m.\u001B[0m\u001B[0mshow\u001B[0m\u001B[0;34m(\u001B[0m\u001B[0;34m)\u001B[0m\u001B[0;34m\u001B[0m\u001B[0;34m\u001B[0m\u001B[0m\n\u001B[1;32m     15\u001B[0m \u001B[0;34m\u001B[0m\u001B[0m\n\u001B[0;32m---> 16\u001B[0;31m \u001B[0mvisualize\u001B[0m\u001B[0;34m(\u001B[0m\u001B[0mX\u001B[0m\u001B[0;34m.\u001B[0m\u001B[0mX\u001B[0m\u001B[0;34m,\u001B[0m \u001B[0mn\u001B[0m\u001B[0;34m)\u001B[0m\u001B[0;34m\u001B[0m\u001B[0;34m\u001B[0m\u001B[0m\n\u001B[0m\u001B[1;32m     17\u001B[0m \u001B[0;34m\u001B[0m\u001B[0m\n",
      "\u001B[0;31mAttributeError\u001B[0m: 'tupledict' object has no attribute 'X'"
     ]
    }
   ],
   "source": [
    "import matplotlib.pyplot as plt\n",
    "import numpy as np\n",
    "\n",
    "def visualize(board, n):\n",
    "    board = np.array(board)\n",
    "    clicks = np.argwhere(board == 1)\n",
    "    plt.imshow(board, interpolation='none')\n",
    "    plt.scatter(clicks[:, 1], clicks[:, 0], c='red')\n",
    "    plt.gca().set_xticks(np.arange(-0.5, n, 1))\n",
    "    plt.gca().set_xticklabels([])\n",
    "    plt.gca().set_yticks(np.arange(-0.5, n, 1))\n",
    "    plt.gca().set_yticklabels([])\n",
    "    plt.grid()\n",
    "    plt.show()\n",
    "    \n",
    "visualize(X.X, n)"
   ]
  },
  {
   "cell_type": "markdown",
   "metadata": {},
   "source": [
    "## Additional exercise\n",
    "\n",
    "- Try to experiment with the model for different values of parameter $n$.\n",
    "- See, how far is the model scalable (i.e., is it able to solve the problem for n ~ 10, n ~ 100, or even more in a reasonable time?)."
   ]
  },
  {
   "cell_type": "code",
   "execution_count": null,
   "metadata": {},
   "outputs": [],
   "source": []
  }
 ],
 "metadata": {
  "kernelspec": {
   "display_name": "Python 3 (ipykernel)",
   "language": "python",
   "name": "python3"
  },
  "language_info": {
   "codemirror_mode": {
    "name": "ipython",
    "version": 3
   },
   "file_extension": ".py",
   "mimetype": "text/x-python",
   "name": "python",
   "nbconvert_exporter": "python",
   "pygments_lexer": "ipython3",
   "version": "3.9.6"
  }
 },
 "nbformat": 4,
 "nbformat_minor": 2
}
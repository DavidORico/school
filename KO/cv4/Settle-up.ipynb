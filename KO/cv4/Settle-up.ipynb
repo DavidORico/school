{
 "cells": [
  {
   "cell_type": "markdown",
   "metadata": {},
   "source": [
    "# Settle Up Problem (Dlužníček)\n",
    "\n",
    "_Combinatorial Optimization course, FEE CTU in Prague. Created by [Industrial Informatics Department](http://industrialinformatics.fel.cvut.cz)._\n",
    "\n",
    "## Motivation\n",
    "\n",
    "You went on a trip with a group of your friends. All of you shared some expenses, and now it is the time to settle all the debts. It is clear that everyone should pay the same amount; however, people are lazy, and so you want to find the solution which minimizes the number of transactions.\n",
    "\n",
    "## Input\n",
    "\n",
    "You are given the following:\n",
    "\n",
    "* A set of people $P$\n",
    "* For every person $i \\in P$ the cost $c_i$ (i.e., amount of money that $i$ payed)\n",
    "\n",
    "For the experiments, you may use the following instance:"
   ]
  },
  {
   "cell_type": "code",
   "execution_count": 7,
   "metadata": {},
   "outputs": [],
   "source": [
    "P = set([\"A\", \"B\", \"C\", \"D\"])\n",
    "c = {\"A\": 0, \"B\": 590, \"C\": 110, \"D\": 300}  # c_i is accessed by calling c[i]\n",
    "sv = sum(c.values())/len(c)  # the settlement value"
   ]
  },
  {
   "cell_type": "markdown",
   "metadata": {},
   "source": [
    "Number $sv$ (the settlement value) is the fair price that every person should pay."
   ]
  },
  {
   "cell_type": "markdown",
   "metadata": {},
   "source": [
    "## Output\n",
    "\n",
    "You should find a list of tuples $(x_k, y_k, z_k)$ representing the transactions: person $x_k$ should pay person $y_k$ $z_k$ euros. The number of transactions (i.e., the length of the list) should be minimized.\n",
    "\n",
    "For the given instance, the **optimal solution** consists of 3 transactions, namely\n",
    "\n",
    "```\n",
    "A -> B: 250.0\n",
    "C -> D: 50.0\n",
    "C -> B: 90.0\n",
    "```"
   ]
  },
  {
   "cell_type": "markdown",
   "metadata": {},
   "source": [
    "## Exercise\n",
    "\n",
    "Implement the ILP model of the problem. You can assume that the settlement value is int (or was rounded)."
   ]
  },
  {
   "cell_type": "code",
   "execution_count": 8,
   "metadata": {},
   "outputs": [
    {
     "name": "stdout",
     "output_type": "stream",
     "text": [
      "Gurobi Optimizer version 9.5.1 build v9.5.1rc2 (linux64)\n",
      "Thread count: 4 physical cores, 8 logical processors, using up to 8 threads\n",
      "Optimize a model with 20 rows, 32 columns and 56 nonzeros\n",
      "Model fingerprint: 0xc9365600\n",
      "Variable types: 16 continuous, 16 integer (16 binary)\n",
      "Coefficient statistics:\n",
      "  Matrix range     [1e+00, 1e+03]\n",
      "  Objective range  [1e+00, 1e+00]\n",
      "  Bounds range     [1e+00, 1e+00]\n",
      "  RHS range        [5e+01, 3e+02]\n",
      "Found heuristic solution: objective 3.0000000\n",
      "Presolve removed 4 rows and 8 columns\n",
      "Presolve time: 0.00s\n",
      "Presolved: 16 rows, 24 columns, 48 nonzeros\n",
      "Variable types: 12 continuous, 12 integer (12 binary)\n",
      "\n",
      "Root relaxation: objective 3.900000e-01, 10 iterations, 0.00 seconds (0.00 work units)\n",
      "\n",
      "    Nodes    |    Current Node    |     Objective Bounds      |     Work\n",
      " Expl Unexpl |  Obj  Depth IntInf | Incumbent    BestBd   Gap | It/Node Time\n",
      "\n",
      "     0     0    0.39000    0    3    3.00000    0.39000  87.0%     -    0s\n",
      "     0     0     cutoff    0         3.00000    3.00000  0.00%     -    0s\n",
      "\n",
      "Cutting planes:\n",
      "  Gomory: 1\n",
      "  MIR: 4\n",
      "  Flow cover: 8\n",
      "  Network: 1\n",
      "\n",
      "Explored 1 nodes (24 simplex iterations) in 0.01 seconds (0.00 work units)\n",
      "Thread count was 8 (of 8 available processors)\n",
      "\n",
      "Solution count 1: 3 \n",
      "\n",
      "Optimal solution found (tolerance 1.00e-04)\n",
      "Best objective 3.000000000000e+00, best bound 3.000000000000e+00, gap 0.0000%\n",
      "\n",
      "SOLUTION:\n",
      "0.0\n",
      "0.0\n",
      "0.0\n",
      "0.0\n",
      "0.0\n",
      "0.0\n",
      "140.0\n",
      "0.0\n",
      "0.0\n",
      "0.0\n",
      "0.0\n",
      "390.0\n",
      "50.0\n",
      "0.0\n",
      "0.0\n",
      "0.0\n"
     ]
    }
   ],
   "source": [
    "import gurobipy as g  # import Gurobi module\n",
    "\n",
    "\n",
    "# model --------------------------------------------------\n",
    "m = g.Model()\n",
    "\n",
    "# - ADD VARIABLES\n",
    "R = m.addVars(P, P, vtype=g.GRB.CONTINUOUS, lb=0, name=\"R\")\n",
    "x = m.addVars(P, P, vtype=g.GRB.BINARY, name=\"x\")\n",
    "\n",
    "# - ADD CONSTRAINTS\n",
    "m.addConstrs(sv == c[i] + R.sum(i, \"*\") - R.sum(\"*\", i)\n",
    "             for i in P)\n",
    "M = sum(c.values())\n",
    "m.addConstrs(R[i,j] <= M*x[i,j]\n",
    "             for i in P\n",
    "             for j in P)\n",
    "\n",
    "# - SET OBJECTIVE\n",
    "m.setObjective(x.sum(\"*\", \"*\"))\n",
    "\n",
    "# call the solver -------------------------------------------\n",
    "m.optimize()\n",
    "\n",
    "# print the solution -----------------------------------------\n",
    "print('\\nSOLUTION:')\n",
    "for i in P:\n",
    "    for j in P:\n",
    "        print(R[i,j].X)"
   ]
  },
  {
   "cell_type": "markdown",
   "metadata": {},
   "source": [
    "## Additional experiments\n",
    "\n",
    "* experiment with different values of the 'big M' constant\n",
    "* try to generalize the model to work even with float sv (e.g., rounded to 0.01)\n",
    " "
   ]
  },
  {
   "cell_type": "code",
   "execution_count": 8,
   "metadata": {},
   "outputs": [],
   "source": []
  }
 ],
 "metadata": {
  "kernelspec": {
   "display_name": "Python 3",
   "language": "python",
   "name": "python3"
  },
  "language_info": {
   "codemirror_mode": {
    "name": "ipython",
    "version": 3
   },
   "file_extension": ".py",
   "mimetype": "text/x-python",
   "name": "python",
   "nbconvert_exporter": "python",
   "pygments_lexer": "ipython3",
   "version": "3.8.10"
  }
 },
 "nbformat": 4,
 "nbformat_minor": 4
}